{
  "nbformat": 4,
  "nbformat_minor": 0,
  "metadata": {
    "colab": {
      "name": "extractor_aulas_cerradas_covid.ipynb",
      "provenance": [],
      "collapsed_sections": [],
      "include_colab_link": true
    },
    "kernelspec": {
      "name": "python3",
      "display_name": "Python 3"
    }
  },
  "cells": [
    {
      "cell_type": "markdown",
      "metadata": {
        "id": "view-in-github",
        "colab_type": "text"
      },
      "source": [
        "<a href=\"https://colab.research.google.com/github/LMJ1977/covid/blob/master/extractor_aulas_cerradas_covid.ipynb\" target=\"_parent\"><img src=\"https://colab.research.google.com/assets/colab-badge.svg\" alt=\"Open In Colab\"/></a>"
      ]
    },
    {
      "cell_type": "markdown",
      "metadata": {
        "id": "-D20rQAA46RR",
        "colab_type": "text"
      },
      "source": [
        "#Extracción pedrestre de datos de contagios en colegios, basada en https://muddoo.com/tutorials/how-to-extract-data-from-a-website-using-python/. \n"
      ]
    },
    {
      "cell_type": "markdown",
      "metadata": {
        "id": "ECv5EQDy94d_",
        "colab_type": "text"
      },
      "source": [
        "##Carga de librerías utilizadas"
      ]
    },
    {
      "cell_type": "code",
      "metadata": {
        "id": "hXtmSFS85RZH",
        "colab_type": "code",
        "colab": {
          "base_uri": "https://localhost:8080/",
          "height": 80
        },
        "outputId": "3beeb70d-71ac-49d0-8ace-53ca42a8a1a9"
      },
      "source": [
        "\n",
        "import pandas as pd\n",
        "import re\n",
        "import bs4\n",
        "from bs4 import BeautifulSoup\n",
        "from urllib.request import urlopen\n",
        "import numpy as np\n",
        "!pip install feedparser\n",
        "import feedparser"
      ],
      "execution_count": 231,
      "outputs": [
        {
          "output_type": "stream",
          "text": [
            "Requirement already satisfied: feedparser in /usr/local/lib/python3.6/dist-packages (6.0.1)\n",
            "Requirement already satisfied: sgmllib3k in /usr/local/lib/python3.6/dist-packages (from feedparser) (1.0.0)\n"
          ],
          "name": "stdout"
        }
      ]
    },
    {
      "cell_type": "code",
      "metadata": {
        "id": "FudstcokcXGG",
        "colab_type": "code",
        "colab": {}
      },
      "source": [
        "def evaluate_no_number(txt):\n",
        "  if len(txt)>0:\n",
        "    number = '1'\n",
        "  else:\n",
        "    number = '1' #work in progress\n",
        "  return number"
      ],
      "execution_count": 232,
      "outputs": []
    },
    {
      "cell_type": "code",
      "metadata": {
        "id": "pN7UM2xdrQW7",
        "colab_type": "code",
        "colab": {}
      },
      "source": [
        "def search_in_centro(position):\n",
        "    center_type = []\n",
        "    for kwd in cen_Keywords:\n",
        "      if kwd.lower() in data['Centro'][position].lower():\n",
        "        if kwd == 'CRA':\n",
        "          kwd = 'Primaria'\n",
        "        center_type.append(kwd)\n",
        "      else:\n",
        "        continue\n",
        "      return center_type"
      ],
      "execution_count": 233,
      "outputs": []
    },
    {
      "cell_type": "markdown",
      "metadata": {
        "id": "XxiRVI447GwQ",
        "colab_type": "text"
      },
      "source": [
        " web datos colegios http://aragonhoy.net/index.php/mod.noticias/mem.detalle/area.1056/id.265437"
      ]
    },
    {
      "cell_type": "markdown",
      "metadata": {
        "id": "b7fDoCuoTjKg",
        "colab_type": "text"
      },
      "source": [
        "##Suscripción a RSS Feed de Aragon Hoy. Filtrado por palabras clave"
      ]
    },
    {
      "cell_type": "code",
      "metadata": {
        "id": "ijccW7LsNpAV",
        "colab_type": "code",
        "colab": {
          "base_uri": "https://localhost:8080/",
          "height": 51
        },
        "outputId": "9e596295-b19f-46f2-f992-a48bd8b224bc"
      },
      "source": [
        "Feed = feedparser.parse('http://www.aragonhoy.net/index.php/mod.noticias/mem.rss')\n",
        "#print(len(Feed.entries))\n",
        "for i in range(len(Feed.entries)):\n",
        "  pointer = Feed.entries[i]\n",
        "  if (all(i in pointer.summary.lower() for i in ['coronavirus','aula','cerrada'])):\n",
        "    print (pointer.summary)\n",
        "    print (pointer.link)"
      ],
      "execution_count": 234,
      "outputs": [
        {
          "output_type": "stream",
          "text": [
            "Cerradas 20 aulas en quince centros educativos de Aragón por casos de coronavirus\n",
            "http://www.aragonhoy.net/index.php/mod.noticias/mem.detalle/id.265807\n"
          ],
          "name": "stdout"
        }
      ]
    },
    {
      "cell_type": "code",
      "metadata": {
        "id": "xUPoOCUr9_Zv",
        "colab_type": "code",
        "colab": {}
      },
      "source": [
        "target_web = pointer.link\n",
        "#target_web = 'http://aragonhoy.net/index.php/mod.noticias/mem.detalle/area.1056/id.265437'\n",
        "#target_web = 'http://aragonhoy.net/index.php/mod.noticias/mem.detalle/area.1050/id.265807'\n",
        "#target_web = 'http://www.aragonhoy.net/index.php/mod.noticias/mem.detalle/relmenu.91/id.265528'\n",
        "#target_web = 'http://www.aragonhoy.net/index.php/mod.noticias/mem.detalle/relmenu.91/id.265647'\n",
        "#target_web = 'http://www.aragonhoy.net/index.php/mod.noticias/mem.detalle/relmenu.91/id.265807'\n",
        "#target_web = 'http://aragonhoy.net/index.php/mod.noticias/mem.detalle/area.1019/id.265713'\n",
        "#target_web = 'http://www.aragonhoy.net/index.php/mod.noticias/mem.detalle/relmenu.91/id.265289' #Boletin inicial, 200911 no sigue el patrón de los otros boletines. No funciona\n",
        "content = urlopen(target_web)\n",
        "read_content = content.read()"
      ],
      "execution_count": 235,
      "outputs": []
    },
    {
      "cell_type": "markdown",
      "metadata": {
        "id": "cql6SHQnUK7L",
        "colab_type": "text"
      },
      "source": [
        "##Búsqueda texto en cuerpo de la web y fecha de publicación de la noticia"
      ]
    },
    {
      "cell_type": "code",
      "metadata": {
        "id": "RgZOqGp9AtbK",
        "colab_type": "code",
        "colab": {}
      },
      "source": [
        "# parse data with web scrapper\n",
        "datascrapped = BeautifulSoup(read_content,'html.parser')\n",
        "soup = datascrapped.find_all('p')              \n",
        "pubdate = datascrapped.find('span', {'class': 'fec'})\n",
        "#print('Datos correspondientes al',pubdate.text)"
      ],
      "execution_count": 236,
      "outputs": []
    },
    {
      "cell_type": "markdown",
      "metadata": {
        "id": "0JvuLfFWQfzP",
        "colab_type": "text"
      },
      "source": [
        "##Definición de cadenas de texto a buscar\n"
      ]
    },
    {
      "cell_type": "code",
      "metadata": {
        "id": "Iwx5LvQ6A_H_",
        "colab_type": "code",
        "colab": {}
      },
      "source": [
        "cen_Keywords = ['Colegio', 'colegio', 'CEIP', 'CEP', 'CEE','Instituto','CRA', 'Colegio Rural Agrupado','IES', 'Instituto','CPI']\n",
        "lvl_Keywords = ['Infantil','Primaria','Secundaria', 'Bachillerato','CEE', 'FP']"
      ],
      "execution_count": 237,
      "outputs": []
    },
    {
      "cell_type": "markdown",
      "metadata": {
        "id": "0H9GYPeJUfWd",
        "colab_type": "text"
      },
      "source": [
        "##Construcción de la tabla de datos"
      ]
    },
    {
      "cell_type": "code",
      "metadata": {
        "id": "Ioe74Bw6ICYo",
        "colab_type": "code",
        "colab": {}
      },
      "source": [
        "raw = []\n",
        "for line in soup:\n",
        "  if (any(cen in line.text for cen in cen_Keywords)):\n",
        "    raw.append(line.text)"
      ],
      "execution_count": 238,
      "outputs": []
    },
    {
      "cell_type": "code",
      "metadata": {
        "id": "anjwXiK4IVIO",
        "colab_type": "code",
        "colab": {}
      },
      "source": [
        "data = pd.DataFrame(raw)"
      ],
      "execution_count": 239,
      "outputs": []
    },
    {
      "cell_type": "code",
      "metadata": {
        "id": "Jg6p2GVNybPd",
        "colab_type": "code",
        "colab": {
          "base_uri": "https://localhost:8080/",
          "height": 514
        },
        "outputId": "f63d496e-67ca-47ff-d690-aceec8e9447c"
      },
      "source": [
        "new_data = data[0].str.split(':',n=1, expand = True)\n",
        "# making separate first name column from new data frame \n",
        "data[\"Centro\"]= new_data[0] \n",
        "  \n",
        "# making separate last name column from new data frame \n",
        "data[\"Incidencia\"]= new_data[1] \n",
        "  \n",
        "# Dropping old Name columns and rows with no \"incidencia\" \n",
        "data.drop(columns =[0], inplace = True)\n",
        "data=data[data['Incidencia'].astype(bool)] \n",
        "data"
      ],
      "execution_count": 240,
      "outputs": [
        {
          "output_type": "execute_result",
          "data": {
            "text/html": [
              "<div>\n",
              "<style scoped>\n",
              "    .dataframe tbody tr th:only-of-type {\n",
              "        vertical-align: middle;\n",
              "    }\n",
              "\n",
              "    .dataframe tbody tr th {\n",
              "        vertical-align: top;\n",
              "    }\n",
              "\n",
              "    .dataframe thead th {\n",
              "        text-align: right;\n",
              "    }\n",
              "</style>\n",
              "<table border=\"1\" class=\"dataframe\">\n",
              "  <thead>\n",
              "    <tr style=\"text-align: right;\">\n",
              "      <th></th>\n",
              "      <th>Centro</th>\n",
              "      <th>Incidencia</th>\n",
              "    </tr>\n",
              "  </thead>\n",
              "  <tbody>\n",
              "    <tr>\n",
              "      <th>0</th>\n",
              "      <td>CEIP Gil Tarín (La Muela)</td>\n",
              "      <td>1 aula de Infantil</td>\n",
              "    </tr>\n",
              "    <tr>\n",
              "      <th>1</th>\n",
              "      <td>CEIP Ciudad de Zaragoza (Zaragoza)</td>\n",
              "      <td>1 aula de Infantil</td>\n",
              "    </tr>\n",
              "    <tr>\n",
              "      <th>2</th>\n",
              "      <td>CEIP Juan XXIII (Zaragoza)</td>\n",
              "      <td>1 aula de Primaria</td>\n",
              "    </tr>\n",
              "    <tr>\n",
              "      <th>3</th>\n",
              "      <td>CEIP Lucien Briet (Zaragoza)</td>\n",
              "      <td>1 aula de Primaria</td>\n",
              "    </tr>\n",
              "    <tr>\n",
              "      <th>4</th>\n",
              "      <td>Colegio Santo Domingo de Silos (Zaragoza)</td>\n",
              "      <td>2 aulas de Infantil</td>\n",
              "    </tr>\n",
              "    <tr>\n",
              "      <th>5</th>\n",
              "      <td>Colegio María Auxiliadora-Salesianas (Zaragoza)</td>\n",
              "      <td>1 aula de Infantil</td>\n",
              "    </tr>\n",
              "    <tr>\n",
              "      <th>6</th>\n",
              "      <td>Colegio El Salvador (Zaragoza)</td>\n",
              "      <td>2 aulas de Primaria</td>\n",
              "    </tr>\n",
              "    <tr>\n",
              "      <th>7</th>\n",
              "      <td>Colegio Escolapias Calasanz (Zaragoza)</td>\n",
              "      <td>1 aula de Primaria</td>\n",
              "    </tr>\n",
              "    <tr>\n",
              "      <th>8</th>\n",
              "      <td>CRA Los Bañales (Sádaba)</td>\n",
              "      <td>1 aula de Primaria</td>\n",
              "    </tr>\n",
              "    <tr>\n",
              "      <th>9</th>\n",
              "      <td>CEIP Mateo Valero (Alfamén)</td>\n",
              "      <td>1 aula de Primaria</td>\n",
              "    </tr>\n",
              "    <tr>\n",
              "      <th>10</th>\n",
              "      <td>CEIP Luis Turón (Híjar)</td>\n",
              "      <td>2 aulas de Infantil y 1 de Primaria</td>\n",
              "    </tr>\n",
              "    <tr>\n",
              "      <th>11</th>\n",
              "      <td>CEIP Juan Ramón Alegre (Andorra)</td>\n",
              "      <td>1 de Infantil</td>\n",
              "    </tr>\n",
              "    <tr>\n",
              "      <th>12</th>\n",
              "      <td>IES Sierra de Guara (Huesca)</td>\n",
              "      <td>1 aula de FP</td>\n",
              "    </tr>\n",
              "    <tr>\n",
              "      <th>13</th>\n",
              "      <td>CEIP San Vicente (Huesca)</td>\n",
              "      <td>1 aula de Infantil y 1 aula de Primaria</td>\n",
              "    </tr>\n",
              "    <tr>\n",
              "      <th>14</th>\n",
              "      <td>CEIP Pío XII (Huesca)</td>\n",
              "      <td>1 aula de Infantil</td>\n",
              "    </tr>\n",
              "  </tbody>\n",
              "</table>\n",
              "</div>"
            ],
            "text/plain": [
              "                                             Centro                                Incidencia\n",
              "0                         CEIP Gil Tarín (La Muela)                        1 aula de Infantil\n",
              "1                CEIP Ciudad de Zaragoza (Zaragoza)                        1 aula de Infantil\n",
              "2                        CEIP Juan XXIII (Zaragoza)                        1 aula de Primaria\n",
              "3                      CEIP Lucien Briet (Zaragoza)                        1 aula de Primaria\n",
              "4         Colegio Santo Domingo de Silos (Zaragoza)                       2 aulas de Infantil\n",
              "5   Colegio María Auxiliadora-Salesianas (Zaragoza)                        1 aula de Infantil\n",
              "6                    Colegio El Salvador (Zaragoza)                       2 aulas de Primaria\n",
              "7            Colegio Escolapias Calasanz (Zaragoza)                        1 aula de Primaria\n",
              "8                          CRA Los Bañales (Sádaba)                        1 aula de Primaria\n",
              "9                       CEIP Mateo Valero (Alfamén)                        1 aula de Primaria\n",
              "10                          CEIP Luis Turón (Híjar)       2 aulas de Infantil y 1 de Primaria\n",
              "11                 CEIP Juan Ramón Alegre (Andorra)                             1 de Infantil\n",
              "12                     IES Sierra de Guara (Huesca)                              1 aula de FP\n",
              "13                        CEIP San Vicente (Huesca)   1 aula de Infantil y 1 aula de Primaria\n",
              "14                            CEIP Pío XII (Huesca)                        1 aula de Infantil"
            ]
          },
          "metadata": {
            "tags": []
          },
          "execution_count": 240
        }
      ]
    },
    {
      "cell_type": "markdown",
      "metadata": {
        "id": "0Vlb8NPJ0k7u",
        "colab_type": "text"
      },
      "source": [
        "##Cambiamos textos por números, con un poco de picardía...\n",
        "\n"
      ]
    },
    {
      "cell_type": "code",
      "metadata": {
        "id": "oEHUjmpdyuLe",
        "colab_type": "code",
        "colab": {}
      },
      "source": [
        "dictionary = {\" UNA \":\" 1 \", \" OTRA \":\" 1 \",\" DOS \":\" 2 \",\" UNO \":\" 1 \",\" OTRO \":\" 1 \",\" UN PAR \":\" 2 \",\" TRES \":\" 3 \",\" CUATRO \":\" 4 \",\"CINCO \":\" 5 \", \"ESO\":\"Secundaria\", \"BAC\":\"Bachillerato\" } \n",
        "\n",
        "for ind,item in enumerate(data['Incidencia']):\n",
        "  #item = re.sub(r'(?<=[.,])(?=[^\\s])', r' ', item)\n",
        "  #remove parentheses\n",
        "  item = re.sub('\\(', ' ', item)\n",
        "  item = re.sub('\\)',' ',item)\n",
        "  \n",
        "  #item = re.sub('\\.', ' \\. ', item)\n",
        "  for key in dictionary.keys():\n",
        "    redata = re.compile(re.escape(key), re.IGNORECASE)\n",
        "    item = redata.sub(dictionary[key],item)\n",
        "  #print(item)   \n",
        "  data['Incidencia'][ind]=item "
      ],
      "execution_count": 241,
      "outputs": []
    },
    {
      "cell_type": "markdown",
      "metadata": {
        "id": "vO5R78T0T4q0",
        "colab_type": "text"
      },
      "source": [
        "##Añadimos a la tabla columnas por niveles educativos"
      ]
    },
    {
      "cell_type": "code",
      "metadata": {
        "id": "oemf6hsdSVR1",
        "colab_type": "code",
        "colab": {}
      },
      "source": [
        "for lvl in lvl_Keywords:\n",
        "  data[lvl]=''\n",
        "#data"
      ],
      "execution_count": 242,
      "outputs": []
    },
    {
      "cell_type": "markdown",
      "metadata": {
        "id": "ZJiSlMccJnRJ",
        "colab_type": "text"
      },
      "source": [
        "##Extraemos los números de cada línea y los convertimos de string a entero. Volvemos a recorrer los elementos. Vamos a buscar el nivel al que corresponden buscando el nivel y asignandole la posición a la que corresponde. Si el numero de niveles y el número de cifras obtenidas de la lectura de la línea no coincide, el primer número es el total y el resto el desglose por niveles."
      ]
    },
    {
      "cell_type": "code",
      "metadata": {
        "id": "6NJdVpQszU7u",
        "colab_type": "code",
        "colab": {
          "base_uri": "https://localhost:8080/",
          "height": 531
        },
        "outputId": "8889a383-7bf4-4d16-d7f2-cbbad9a3f3de"
      },
      "source": [
        "for ind,item in enumerate(data['Incidencia']):\n",
        "  numbers = re.findall('[0-9]+',item)\n",
        "  if numbers == []:\n",
        "    numbers = evaluate_no_number(item)\n",
        "  intnumbers = [int(i) for i in numbers]\n",
        "  if len(intnumbers)>1:\n",
        "    lvl = []\n",
        "    for kwd in lvl_Keywords:\n",
        "      pat = re.compile(re.escape(kwd), re.IGNORECASE)\n",
        "      try:\n",
        "        pos = re.search(pat,item).start()\n",
        "        lvl.append(kwd)\n",
        "      except:\n",
        "        continue\n",
        "    if len(lvl)==0:\n",
        "      lvl = search_in_centro(ind) \n",
        "    if len(lvl)==len(intnumbers):\n",
        "      shift = 0\n",
        "    else:\n",
        "      shift = 1\n",
        "    for idx,l in enumerate(lvl):\n",
        "        data[l][ind]=intnumbers[idx+shift]  \n",
        "  else:\n",
        "    lvl = []\n",
        "    for kwd in lvl_Keywords:\n",
        "      pat2 = re.compile(re.escape(kwd), re.IGNORECASE)\n",
        "      try:\n",
        "        pos = re.search(pat2,item).start()\n",
        "        lvl.append(kwd)\n",
        "        data[kwd][ind]=intnumbers[0]\n",
        "      except:\n",
        "        continue\n",
        "      #no levels found in text, search in \"centro\"\n",
        "    if len(lvl)==0:\n",
        "      kwd = search_in_centro(ind)\n",
        "      lvl.append(kwd)\n",
        "      data[kwd[0]][ind]=intnumbers[0]\n",
        "print('Datos correspondientes al',pubdate.text)    \n",
        "data"
      ],
      "execution_count": 243,
      "outputs": [
        {
          "output_type": "stream",
          "text": [
            "Datos correspondientes al viernes, 18 de septiembre de 2020\n"
          ],
          "name": "stdout"
        },
        {
          "output_type": "execute_result",
          "data": {
            "text/html": [
              "<div>\n",
              "<style scoped>\n",
              "    .dataframe tbody tr th:only-of-type {\n",
              "        vertical-align: middle;\n",
              "    }\n",
              "\n",
              "    .dataframe tbody tr th {\n",
              "        vertical-align: top;\n",
              "    }\n",
              "\n",
              "    .dataframe thead th {\n",
              "        text-align: right;\n",
              "    }\n",
              "</style>\n",
              "<table border=\"1\" class=\"dataframe\">\n",
              "  <thead>\n",
              "    <tr style=\"text-align: right;\">\n",
              "      <th></th>\n",
              "      <th>Centro</th>\n",
              "      <th>Incidencia</th>\n",
              "      <th>Infantil</th>\n",
              "      <th>Primaria</th>\n",
              "      <th>Secundaria</th>\n",
              "      <th>Bachillerato</th>\n",
              "      <th>CEE</th>\n",
              "      <th>FP</th>\n",
              "    </tr>\n",
              "  </thead>\n",
              "  <tbody>\n",
              "    <tr>\n",
              "      <th>0</th>\n",
              "      <td>CEIP Gil Tarín (La Muela)</td>\n",
              "      <td>1 aula de Infantil</td>\n",
              "      <td>1</td>\n",
              "      <td></td>\n",
              "      <td></td>\n",
              "      <td></td>\n",
              "      <td></td>\n",
              "      <td></td>\n",
              "    </tr>\n",
              "    <tr>\n",
              "      <th>1</th>\n",
              "      <td>CEIP Ciudad de Zaragoza (Zaragoza)</td>\n",
              "      <td>1 aula de Infantil</td>\n",
              "      <td>1</td>\n",
              "      <td></td>\n",
              "      <td></td>\n",
              "      <td></td>\n",
              "      <td></td>\n",
              "      <td></td>\n",
              "    </tr>\n",
              "    <tr>\n",
              "      <th>2</th>\n",
              "      <td>CEIP Juan XXIII (Zaragoza)</td>\n",
              "      <td>1 aula de Primaria</td>\n",
              "      <td></td>\n",
              "      <td>1</td>\n",
              "      <td></td>\n",
              "      <td></td>\n",
              "      <td></td>\n",
              "      <td></td>\n",
              "    </tr>\n",
              "    <tr>\n",
              "      <th>3</th>\n",
              "      <td>CEIP Lucien Briet (Zaragoza)</td>\n",
              "      <td>1 aula de Primaria</td>\n",
              "      <td></td>\n",
              "      <td>1</td>\n",
              "      <td></td>\n",
              "      <td></td>\n",
              "      <td></td>\n",
              "      <td></td>\n",
              "    </tr>\n",
              "    <tr>\n",
              "      <th>4</th>\n",
              "      <td>Colegio Santo Domingo de Silos (Zaragoza)</td>\n",
              "      <td>2 aulas de Infantil</td>\n",
              "      <td>2</td>\n",
              "      <td></td>\n",
              "      <td></td>\n",
              "      <td></td>\n",
              "      <td></td>\n",
              "      <td></td>\n",
              "    </tr>\n",
              "    <tr>\n",
              "      <th>5</th>\n",
              "      <td>Colegio María Auxiliadora-Salesianas (Zaragoza)</td>\n",
              "      <td>1 aula de Infantil</td>\n",
              "      <td>1</td>\n",
              "      <td></td>\n",
              "      <td></td>\n",
              "      <td></td>\n",
              "      <td></td>\n",
              "      <td></td>\n",
              "    </tr>\n",
              "    <tr>\n",
              "      <th>6</th>\n",
              "      <td>Colegio El Salvador (Zaragoza)</td>\n",
              "      <td>2 aulas de Primaria</td>\n",
              "      <td></td>\n",
              "      <td>2</td>\n",
              "      <td></td>\n",
              "      <td></td>\n",
              "      <td></td>\n",
              "      <td></td>\n",
              "    </tr>\n",
              "    <tr>\n",
              "      <th>7</th>\n",
              "      <td>Colegio Escolapias Calasanz (Zaragoza)</td>\n",
              "      <td>1 aula de Primaria</td>\n",
              "      <td></td>\n",
              "      <td>1</td>\n",
              "      <td></td>\n",
              "      <td></td>\n",
              "      <td></td>\n",
              "      <td></td>\n",
              "    </tr>\n",
              "    <tr>\n",
              "      <th>8</th>\n",
              "      <td>CRA Los Bañales (Sádaba)</td>\n",
              "      <td>1 aula de Primaria</td>\n",
              "      <td></td>\n",
              "      <td>1</td>\n",
              "      <td></td>\n",
              "      <td></td>\n",
              "      <td></td>\n",
              "      <td></td>\n",
              "    </tr>\n",
              "    <tr>\n",
              "      <th>9</th>\n",
              "      <td>CEIP Mateo Valero (Alfamén)</td>\n",
              "      <td>1 aula de Primaria</td>\n",
              "      <td></td>\n",
              "      <td>1</td>\n",
              "      <td></td>\n",
              "      <td></td>\n",
              "      <td></td>\n",
              "      <td></td>\n",
              "    </tr>\n",
              "    <tr>\n",
              "      <th>10</th>\n",
              "      <td>CEIP Luis Turón (Híjar)</td>\n",
              "      <td>2 aulas de Infantil y 1 de Primaria</td>\n",
              "      <td>2</td>\n",
              "      <td>1</td>\n",
              "      <td></td>\n",
              "      <td></td>\n",
              "      <td></td>\n",
              "      <td></td>\n",
              "    </tr>\n",
              "    <tr>\n",
              "      <th>11</th>\n",
              "      <td>CEIP Juan Ramón Alegre (Andorra)</td>\n",
              "      <td>1 de Infantil</td>\n",
              "      <td>1</td>\n",
              "      <td></td>\n",
              "      <td></td>\n",
              "      <td></td>\n",
              "      <td></td>\n",
              "      <td></td>\n",
              "    </tr>\n",
              "    <tr>\n",
              "      <th>12</th>\n",
              "      <td>IES Sierra de Guara (Huesca)</td>\n",
              "      <td>1 aula de FP</td>\n",
              "      <td></td>\n",
              "      <td></td>\n",
              "      <td></td>\n",
              "      <td></td>\n",
              "      <td></td>\n",
              "      <td>1</td>\n",
              "    </tr>\n",
              "    <tr>\n",
              "      <th>13</th>\n",
              "      <td>CEIP San Vicente (Huesca)</td>\n",
              "      <td>1 aula de Infantil y 1 aula de Primaria</td>\n",
              "      <td>1</td>\n",
              "      <td>1</td>\n",
              "      <td></td>\n",
              "      <td></td>\n",
              "      <td></td>\n",
              "      <td></td>\n",
              "    </tr>\n",
              "    <tr>\n",
              "      <th>14</th>\n",
              "      <td>CEIP Pío XII (Huesca)</td>\n",
              "      <td>1 aula de Infantil</td>\n",
              "      <td>1</td>\n",
              "      <td></td>\n",
              "      <td></td>\n",
              "      <td></td>\n",
              "      <td></td>\n",
              "      <td></td>\n",
              "    </tr>\n",
              "  </tbody>\n",
              "</table>\n",
              "</div>"
            ],
            "text/plain": [
              "                                             Centro  ... FP\n",
              "0                         CEIP Gil Tarín (La Muela)  ...   \n",
              "1                CEIP Ciudad de Zaragoza (Zaragoza)  ...   \n",
              "2                        CEIP Juan XXIII (Zaragoza)  ...   \n",
              "3                      CEIP Lucien Briet (Zaragoza)  ...   \n",
              "4         Colegio Santo Domingo de Silos (Zaragoza)  ...   \n",
              "5   Colegio María Auxiliadora-Salesianas (Zaragoza)  ...   \n",
              "6                    Colegio El Salvador (Zaragoza)  ...   \n",
              "7            Colegio Escolapias Calasanz (Zaragoza)  ...   \n",
              "8                          CRA Los Bañales (Sádaba)  ...   \n",
              "9                       CEIP Mateo Valero (Alfamén)  ...   \n",
              "10                          CEIP Luis Turón (Híjar)  ...   \n",
              "11                 CEIP Juan Ramón Alegre (Andorra)  ...   \n",
              "12                     IES Sierra de Guara (Huesca)  ...  1\n",
              "13                        CEIP San Vicente (Huesca)  ...   \n",
              "14                            CEIP Pío XII (Huesca)  ...   \n",
              "\n",
              "[15 rows x 8 columns]"
            ]
          },
          "metadata": {
            "tags": []
          },
          "execution_count": 243
        }
      ]
    },
    {
      "cell_type": "code",
      "metadata": {
        "id": "x8D1JOW3GNZ6",
        "colab_type": "code",
        "colab": {}
      },
      "source": [
        "data[['Infantil', 'Primaria', 'Secundaria',\n",
        "       'Bachillerato', 'CEE', 'FP']] = data[['Infantil', 'Primaria', 'Secundaria',\n",
        "       'Bachillerato', 'CEE','FP']].apply(pd.to_numeric).fillna(0)#.sum(axis=0)"
      ],
      "execution_count": 244,
      "outputs": []
    },
    {
      "cell_type": "code",
      "metadata": {
        "id": "KGLf_slpRmRZ",
        "colab_type": "code",
        "colab": {
          "base_uri": "https://localhost:8080/",
          "height": 170
        },
        "outputId": "8d74fab7-0032-46ac-ccdf-c8043fe989e5"
      },
      "source": [
        "data.sum()"
      ],
      "execution_count": 245,
      "outputs": [
        {
          "output_type": "execute_result",
          "data": {
            "text/plain": [
              "Centro          CEIP Gil Tarín (La Muela)CEIP Ciudad de Zarago...\n",
              "Incidencia       1 aula de Infantil 1 aula de Infantil 1 aula ...\n",
              "Infantil                                                       10\n",
              "Primaria                                                        9\n",
              "Secundaria                                                      0\n",
              "Bachillerato                                                    0\n",
              "CEE                                                             0\n",
              "FP                                                              1\n",
              "dtype: object"
            ]
          },
          "metadata": {
            "tags": []
          },
          "execution_count": 245
        }
      ]
    },
    {
      "cell_type": "code",
      "metadata": {
        "id": "YQJnVJK-3-HK",
        "colab_type": "code",
        "colab": {}
      },
      "source": [
        ""
      ],
      "execution_count": 245,
      "outputs": []
    }
  ]
}